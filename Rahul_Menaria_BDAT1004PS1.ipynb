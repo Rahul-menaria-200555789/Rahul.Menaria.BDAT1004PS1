{
  "nbformat": 4,
  "nbformat_minor": 0,
  "metadata": {
    "colab": {
      "provenance": []
    },
    "kernelspec": {
      "name": "python3",
      "display_name": "Python 3"
    },
    "language_info": {
      "name": "python"
    }
  },
  "cells": [
    {
      "cell_type": "markdown",
      "source": [
        "#        - - - - - - - - - - - - - - - **Problem Set 1** - - - - - - - - - - - - - - - -"
      ],
      "metadata": {
        "id": "0MTkU68YYieS"
      }
    },
    {
      "cell_type": "markdown",
      "source": [
        "# Question 1\n",
        "What data type is each of the following (evaluate where necessary)?\n",
        "- 5\n",
        "- 5.0\n",
        "- 5>1\n",
        "- '5'\n",
        "- 5*2\n",
        "- '5' * 2\n",
        "- '5' + '2'\n",
        "- 5/2\n",
        "- 5%2\n",
        "- {5, 2, 1}\n",
        "- 5 == 3\n",
        "- Pi (the number)"
      ],
      "metadata": {
        "id": "Lx8rc-f5Y1ZP"
      }
    },
    {
      "cell_type": "code",
      "source": [
        "# Here we are importing the math lib\n",
        "import math\n",
        "print(\"\")\n",
        "print(\"type of 5 is \", type(5), '\\n')\n",
        "print(\"type of 5.0 is \", type(5.0), '\\n')\n",
        "print(\"type of 5>1 is \", type(5>1), \" and the value is \", 5>1 , '\\n')\n",
        "print(\"type of '5' is \", type('5'), '\\n')\n",
        "print(\"type of 5*2 is \", type(5*2), \" and the value is \", 5*2, '\\n')\n",
        "print(\"type of '5' * 2 is \", type('5' * 2),\" and the value is \",'5' * 2, '\\n' )\n",
        "print(\"type of '5' + '2' is \", type('5' + '2'),\" and the value is \",'5' + '2', '\\n')\n",
        "print(\"type of 5/2 is \", type(5/2),\" and the value is \",5/2, '\\n')\n",
        "print(\"type of 5%2 is \", type(5%2),\" and the value is \",5%2, '\\n')\n",
        "print(\"type of {5, 2, 1} is \", type({5, 2, 1}), '\\n')\n",
        "print(\"type of 5 == 3 is \", type(5 == 3),\" and the value is \",5 == 3, '\\n')\n",
        "print(\"type of Pi is \", type(math.pi), \" and the value is \",math.pi,'\\n')"
      ],
      "metadata": {
        "colab": {
          "base_uri": "https://localhost:8080/"
        },
        "id": "BlDGJ1q-Ym77",
        "outputId": "d8648808-4df8-47d1-f6c7-fd4d888b3a85"
      },
      "execution_count": 1,
      "outputs": [
        {
          "output_type": "stream",
          "name": "stdout",
          "text": [
            "\n",
            "type of 5 is  <class 'int'> \n",
            "\n",
            "type of 5.0 is  <class 'float'> \n",
            "\n",
            "type of 5>1 is  <class 'bool'>  and the value is  True \n",
            "\n",
            "type of '5' is  <class 'str'> \n",
            "\n",
            "type of 5*2 is  <class 'int'>  and the value is  10 \n",
            "\n",
            "type of '5' * 2 is  <class 'str'>  and the value is  55 \n",
            "\n",
            "type of '5' + '2' is  <class 'str'>  and the value is  52 \n",
            "\n",
            "type of 5/2 is  <class 'float'>  and the value is  2.5 \n",
            "\n",
            "type of 5%2 is  <class 'int'>  and the value is  1 \n",
            "\n",
            "type of {5, 2, 1} is  <class 'set'> \n",
            "\n",
            "type of 5 == 3 is  <class 'bool'>  and the value is  False \n",
            "\n",
            "type of Pi is  <class 'float'>  and the value is  3.141592653589793 \n",
            "\n"
          ]
        }
      ]
    },
    {
      "cell_type": "markdown",
      "source": [
        "#Question 2\n",
        "Write (and evaluate) python expressions that answer these questions:\n",
        "\n",
        "---\n",
        "\n",
        "\n",
        "- a. How many letters are there in 'Supercalifragilisticexpialidocious'?   \n",
        "- b. Does 'Supercalifragilisticexpialidocious' contain 'ice' as a substring?  \n",
        "- c. Which of the following words is the longest: Supercalifragilisticexpialidocious, Honorificabilitudinitatibus, or Bababadalgharaghtakamminarronnkonn?    \n",
        "- d. Which composer comes first in the dictionary: 'Berlioz', 'Borodin', 'Brian', 'Bartok', 'Bellini', 'Buxtehude', 'Bernstein'. Which one comes last?"
      ],
      "metadata": {
        "id": "CY4w0vLjh0Up"
      }
    },
    {
      "cell_type": "code",
      "source": [
        "# A. How many letters are there in 'Supercalifragilisticexpialidocious'?\n",
        "\n",
        "textGiven = 'Supercalifragilisticexpialidocious'\n",
        "\n",
        "print(\" A . Total number in 'Supercalifragilisticexpialidocious' is \",len(textGiven), '\\n')\n",
        "\n",
        "# B. Does 'Supercalifragilisticexpialidocious' contain 'ice' as a substring?\n",
        "\n",
        "word = 'ice'\n",
        "\n",
        "if word in textGiven:\n",
        "  print(\"\\n B . Yes,'Supercalifragilisticexpialidocious' contain 'ice' as a substring. \\n \")\n",
        "else:\n",
        "  print(\"\\n B . No,'Supercalifragilisticexpialidocious' does not contain 'ice' as a substring. \\n\")\n",
        "\n",
        "# C. Which of the following words is the longest: Supercalifragilisticexpialidocious, Honorificabilitudinitatibus, or Bababadalgharaghtakamminarronnkonn?\n",
        "\n",
        "givenWords = ['Supercalifragilisticexpialidocious','Honorificabilitudinitatibus','Bababadalgharaghtakamminarronnkonn']\n",
        "\n",
        "maxWordSize = 0\n",
        "\n",
        "for i in givenWords:      # To determine the length of the longest word\n",
        "  if len(i)> maxWordSize:\n",
        "    maxWordSize = len(i)\n",
        "\n",
        "print(\" C . The longest words are:\\n \")\n",
        "formatting = 1\n",
        "for k in givenWords:\n",
        "\n",
        "  if len(k)==maxWordSize:\n",
        "    print(\"    \",formatting,'.',k)\n",
        "    formatting = formatting+1\n",
        "\n",
        "# D. Which composer comes first in the dictionary: 'Berlioz', 'Borodin', 'Brian', 'Bartok', 'Bellini', 'Buxtehude', 'Bernstein'. Which one comes last?\n",
        "\n",
        "givenDict =['Berlioz', 'Borodin', 'Brian','Bartok', 'Bellini', 'Buxtehude', 'Bernstein']\n",
        "print(\"\\n D .\" ,min(givenDict), \"comes first in the dictionary \\n\")\n",
        "print(\"    \",max(givenDict),\"comes last in the dictionary \\n\")\n"
      ],
      "metadata": {
        "colab": {
          "base_uri": "https://localhost:8080/"
        },
        "id": "vTSBrMVzbVbJ",
        "outputId": "655cec4e-641b-40af-f0f6-6a81eabd1bf5"
      },
      "execution_count": 2,
      "outputs": [
        {
          "output_type": "stream",
          "name": "stdout",
          "text": [
            " A . Total number in 'Supercalifragilisticexpialidocious' is  34 \n",
            "\n",
            "\n",
            " B . Yes,'Supercalifragilisticexpialidocious' contain 'ice' as a substring. \n",
            " \n",
            " C . The longest words are:\n",
            " \n",
            "     1 . Supercalifragilisticexpialidocious\n",
            "     2 . Bababadalgharaghtakamminarronnkonn\n",
            "\n",
            " D . Bartok comes first in the dictionary \n",
            "\n",
            "     Buxtehude comes last in the dictionary \n",
            "\n"
          ]
        }
      ]
    },
    {
      "cell_type": "markdown",
      "source": [
        "# Question 3\n",
        "Implement function triangleArea(a,b,c) that takes as input the lengths of the 3 sides of a triangle and returns the area of the triangle. By Heron's formula, the area of a triangle with side lengths a, b, and c is s(s-a)(s-b)(s-c), where\n",
        "s=(a+b+c)/2.\n",
        "-\n",
        "\n",
        "> triangleArea(2,2,2)  \n",
        "  1.7320508075688772\n",
        "\n",
        "\n",
        "  "
      ],
      "metadata": {
        "id": "wY1PmZ12unqi"
      }
    },
    {
      "cell_type": "code",
      "source": [
        "# we have to use the square root function so import math lib.\n",
        "\n",
        "import math\n",
        "\n",
        "def triangleArea(a, b, c):\n",
        "    s = (a + b + c) / 2\n",
        "    area = math.sqrt(s * (s - a) * (s - b) * (s - c))\n",
        "    return area\n",
        "\n",
        "area = triangleArea(2, 2, 2)\n",
        "print(\"\\n The area of the triangle is \",area,\"\\n\")"
      ],
      "metadata": {
        "colab": {
          "base_uri": "https://localhost:8080/"
        },
        "id": "RaqfgunLeCZ_",
        "outputId": "abbb42c6-882e-4d7b-af5a-ea96cbcdcb3a"
      },
      "execution_count": 3,
      "outputs": [
        {
          "output_type": "stream",
          "name": "stdout",
          "text": [
            "\n",
            " The area of the triangle is  1.7320508075688772 \n",
            "\n"
          ]
        }
      ]
    },
    {
      "cell_type": "markdown",
      "source": [
        "# Question 4\n",
        "Write a program in python to separate odd and even integers in separate arrays. Go to the editor  \n",
        "Test Data :  \n",
        "Input the number of elements to be stored in the array :5  \n",
        "Input 5 elements in the array : element - 0 : 25  \n",
        "element - 1 : 47  \n",
        "element - 2 : 42  \n",
        "element - 3 : 56 element - 4 : 32 Expected Output:  \n",
        "The Even elements are: 42 56 32  \n",
        "The Odd elements are : 25 47  "
      ],
      "metadata": {
        "id": "r1AtDbvpzByl"
      }
    },
    {
      "cell_type": "code",
      "source": [
        "inputNo = int(input(\"\\n input the elements to be stored in the array \\n \"))\n",
        "\n",
        "# Using three lists to seperate\n",
        "inputList =[]\n",
        "oddList = []\n",
        "evenList= []\n",
        "for i in range(inputNo):\n",
        "  inputList.append(int(input(\"element \"+str(i-0)+\" \",)))\n",
        "\n",
        "for i in inputList :\n",
        "  if i%2 == 0:\n",
        "    evenList.append(i)\n",
        "  else:\n",
        "    oddList.append(i)\n",
        "\n",
        "print(\"The Even elements are \",evenList)\n",
        "print(\"\\nThe Odd elements are \",oddList)\n",
        "\n",
        "\n"
      ],
      "metadata": {
        "colab": {
          "base_uri": "https://localhost:8080/"
        },
        "id": "1syLA1Jij4B7",
        "outputId": "815f7335-5df1-45fc-95fd-81c0a8a26b43"
      },
      "execution_count": 4,
      "outputs": [
        {
          "output_type": "stream",
          "name": "stdout",
          "text": [
            "\n",
            " input the elements to be stored in the array \n",
            " 5\n",
            "element 0 25\n",
            "element 1 47\n",
            "element 2 42\n",
            "element 3 56\n",
            "element 4 32\n",
            "The Even elements are  [42, 56, 32]\n",
            "\n",
            "The Odd elements are  [25, 47]\n"
          ]
        }
      ]
    },
    {
      "cell_type": "markdown",
      "source": [
        "# Question 5\n",
        "a. Write a function inside(x,y,x1,y1,x2,y2) that returns True or False depending on whether the point (x,y) lies in the rectangle with lower left corner (x1,y1) and upper right corner (x2,y2).  \n",
        "\n",
        "     >>> inside(1,1,0,0,2,3)  \n",
        "     True  \n",
        "     >>> inside(-1,-1,0,0,2,3)  \n",
        "     False  \n",
        "       \n",
        "b. Use function inside() from part a. to write an expression that tests whether the point (1,1) lies in both of the following rectangles: one with lower left corner (0.3, 0.5) and upper right corner (1.1, 0.7) and the other with lower left corner (0.5, 0.2) and upper right corner (1.1, 2)."
      ],
      "metadata": {
        "id": "ntSfLEjp2p4c"
      }
    },
    {
      "cell_type": "code",
      "source": [
        "# 5(a) . Write a function inside(x,y,x1,y1,x2,y2) that returns True or False depending on whether the point (x,y) lies in the rectangle with lower left corner (x1,y1) and upper right corner (x2,y2).\n",
        "#  >>> inside(1,1,0,0,2,3)   True\n",
        "#  >>> inside(-1,-1,0,0,2,3)  False\n",
        "\n",
        "def inside(x, y, x1, y1, x2, y2):\n",
        "    if x >= x1 and x <= x2 and y >= y1 and y <= y2:\n",
        "        return True\n",
        "    else:\n",
        "        return False\n",
        "\n",
        "print(\"Answer for Q. 5A- \")\n",
        "print(inside(1, 1, 0, 0, 2, 3))\n",
        "print(inside(-1, -1, 0, 0, 2, 3))\n",
        "\n",
        "\n",
        "#5(b) . Use function inside() from part a. to write an expression that tests whether the point (1,1) lies in both of the following rectangles: one with lower left corner (0.3, 0.5) and upper right corner (1.1, 0.7) and the other with lower left corner (0.5, 0.2) and upper right corner (1.1, 2).\n",
        "\n",
        "\n",
        "rectangleOne = inside(1, 1, 0.3, 0.5, 1.1, 0.7)\n",
        "rectangleTwo = inside(1, 1, 0.5, 0.2, 1.1, 2)\n",
        "\n",
        "print(\"\\nAnswer for Q. 5b - \")\n",
        "\n",
        "if rectangleOne & rectangleTwo:\n",
        "    print(\"The point (1,1) lies in both rectangles.\")\n",
        "else:\n",
        "    print(\"The point (1,1) does not lie in both rectangles.\")\n",
        "\n",
        "\n",
        "\n",
        "\n"
      ],
      "metadata": {
        "colab": {
          "base_uri": "https://localhost:8080/"
        },
        "id": "jeFKOmFN1Nkf",
        "outputId": "12d0a796-364d-411d-feb4-bcd7753ca28c"
      },
      "execution_count": 5,
      "outputs": [
        {
          "output_type": "stream",
          "name": "stdout",
          "text": [
            "Answer for Q. 5A- \n",
            "True\n",
            "False\n",
            "\n",
            "Answer for Q. 5b - \n",
            "The point (1,1) does not lie in both rectangles.\n"
          ]
        }
      ]
    },
    {
      "cell_type": "markdown",
      "source": [
        "# Question 6\n",
        "You can turn a word into pig-Latin using the following two rules (simplified):\n",
        "• If the word starts with a consonant, move that letter to the end and append\n",
        "'ay'. For example, 'happy' becomes 'appyhay' and 'pencil' becomes 'encilpay'.\n",
        "• If the word starts with a vowel, simply append 'way' to the end of the word.\n",
        "For example, 'enter' becomes 'enterway' and 'other' becomes 'otherway' . For\n",
        "our purposes, there are 5 vowels: a, e, i, o, u (so we count y as a consonant). Write a function pig() that takes a word (i.e., a string) as input and returns its pig- Latin form. Your function should still work if the input word contains upper case characters. Your output should always be lower case however.\n",
        "- pig('happy')\n",
        "'appyhay'\n",
        "- pig('Enter')\n",
        "'enterway'"
      ],
      "metadata": {
        "id": "DJry0Tq5zkSr"
      }
    },
    {
      "cell_type": "code",
      "source": [
        "def pig():\n",
        "    vowels = \"aeiou\"\n",
        "    word = input(\"Enter a word for use: \").lower()\n",
        "    if word[0] in vowels:\n",
        "        return word + \"way\"\n",
        "    else:\n",
        "        return word[1:] + word[0] + \"ay\"\n",
        "\n",
        "print(pig())\n",
        "print(pig())"
      ],
      "metadata": {
        "colab": {
          "base_uri": "https://localhost:8080/"
        },
        "id": "0_wB3S_Dzt36",
        "outputId": "a9d8aa02-0e16-4d87-a35e-4b0f15c05498"
      },
      "execution_count": 6,
      "outputs": [
        {
          "output_type": "stream",
          "name": "stdout",
          "text": [
            "Enter a word for use: happy\n",
            "appyhay\n",
            "Enter a word for use: Enter\n",
            "enterway\n"
          ]
        }
      ]
    },
    {
      "cell_type": "markdown",
      "source": [
        "# Question 7\n",
        "File bloodtype1.txt records blood-types of patients (A, B, AB, O or OO) at a clinic. Write a function bldcount() that reads the file with name name and reports (i.e., prints) how many patients there are in each bloodtype.\n",
        "- bldcount('bloodtype.txt')\n",
        "There are 10 patients of blood type A. There is one patient of blood type B. There are 10 patients of blood type AB. There are 12 patients of blood type O. There are no patients of blood type OO."
      ],
      "metadata": {
        "id": "FGE6EdDBnEyD"
      }
    },
    {
      "cell_type": "code",
      "source": [
        "# Here we are defining the function to count the samples in files\n",
        "\n",
        "def bldcount(filename):\n",
        "\n",
        "    blood_types_given = ['A', 'B', 'AB', 'O', 'OO']\n",
        "    counts = {blood_type: 0 for blood_type in blood_types_given}\n",
        "\n",
        "    # Opening the file\n",
        "\n",
        "    with open(filename, 'r') as file:\n",
        "        blood_type_list = file.read().strip().split()\n",
        "\n",
        "    # Counting the type\n",
        "    for blood_type in blood_type_list:\n",
        "        if blood_type in counts:\n",
        "            counts[blood_type] += 1\n",
        "\n",
        "    for blood_type in blood_types_given:\n",
        "        count = counts[blood_type]\n",
        "        if count == 0:\n",
        "            print(f\"There are no patients of blood type {blood_type}.\")\n",
        "        elif count == 1:\n",
        "            print(f\"There is one patient of blood type {blood_type}.\")\n",
        "        else:\n",
        "            print(f\"There are {count} patients of blood type {blood_type}.\")\n",
        "\n",
        "bldcount('bloodtype1.txt')\n"
      ],
      "metadata": {
        "id": "izILRZ3n3ZII",
        "colab": {
          "base_uri": "https://localhost:8080/"
        },
        "outputId": "16c8a0db-df2c-4d19-8414-20494ecc14fa"
      },
      "execution_count": 7,
      "outputs": [
        {
          "output_type": "stream",
          "name": "stdout",
          "text": [
            "There are 15 patients of blood type A.\n",
            "There is one patient of blood type B.\n",
            "There are 13 patients of blood type AB.\n",
            "There are 15 patients of blood type O.\n",
            "There are no patients of blood type OO.\n"
          ]
        }
      ]
    },
    {
      "cell_type": "markdown",
      "source": [
        "# Question 8\n",
        "Write a function curconv() that takes as input:\n",
        "1. a currency represented using a string (e.g., 'JPY' for the Japanese Yen or 'EUR' for the Euro)\n",
        "2. an amount\n",
        "and then converts and returns the amount in US dollars.\n",
        "- curconv('EUR', 100)  \n",
        "  122.96544\n",
        "- curconv('JPY', 100)  \n",
        "  1.241401  \n",
        "The currency rates you will need are stored in file currencies.txt:\n"
      ],
      "metadata": {
        "id": "lqKEpIjFnHiF"
      }
    },
    {
      "cell_type": "code",
      "source": [
        "\n",
        "# Here we are defining the function for conversion\n",
        "def curConv(Currency, value):\n",
        "    f = open(\"currencies.txt\") # opening the currency file\n",
        "    lines = f.readlines()\n",
        "    for line in lines:\n",
        "        s = line.strip().split('\\t')\n",
        "        code = s[0]\n",
        "        convFactor = float(s[1])\n",
        "        name = s[2]\n",
        "\n",
        "        if Currency == code:\n",
        "            return value * convFactor  # Converting\n",
        "\n",
        "print(\"Converted amount in USD:\", curConv('EUR', 100))\n",
        "print(\"Converted amount in USD:\", curConv('JPY', 100))"
      ],
      "metadata": {
        "id": "uyTrFhdDaXHV",
        "colab": {
          "base_uri": "https://localhost:8080/"
        },
        "outputId": "b4948b18-5ea8-46c4-e7b6-f39fe12b040d"
      },
      "execution_count": 8,
      "outputs": [
        {
          "output_type": "stream",
          "name": "stdout",
          "text": [
            "Converted amount in USD: 122.96544\n",
            "Converted amount in USD: 1.241401\n"
          ]
        }
      ]
    },
    {
      "cell_type": "markdown",
      "source": [
        "# Question 9\n",
        "Each of the following will cause an exception (an error). Identify what type of exception each will cause.   \n",
        "\n",
        "Trying to add incompatible variables, as in adding 6 + ‘a’  \n",
        "\n",
        "Referring to the 12th item of a list that has only 10 items  \n",
        "\n",
        "Using a value that is out of range for a function’s input,  such as calling math.sqrt(-1.0)\n",
        "\n",
        "Using an undeclared variable, such as print(x) when x has not been defined  \n",
        "\n",
        "Trying to open a file that does not exist, such as mistyping the file name or looking in the wrong directory."
      ],
      "metadata": {
        "id": "TbHAskTvoF-k"
      }
    },
    {
      "cell_type": "code",
      "source": [
        "# 9(1). Trying to add 6 + 'a'\n",
        "def type_error():\n",
        "    try:\n",
        "        result = 6 + 'a'\n",
        "    except TypeError as e:\n",
        "        print(f\"Found a TypeError: {e}\")\n",
        "\n",
        "# 9(2). Referring to the 12th item of a list that has only 10 items\n",
        "def index_error():\n",
        "    my_list = [13, 2, 35, 4, 5, 56, 7, 8, 69, 10]\n",
        "    try:\n",
        "        item = my_list[11]\n",
        "    except IndexError as e:\n",
        "        print(f\"Found an IndexError: {e}\")\n",
        "\n",
        "# 9(3). Using a value that is out of range for a function’s input, such as calling math.sqrt(-1.0)\n",
        "def value_error():\n",
        "    import math\n",
        "    try:\n",
        "        result = math.sqrt(-1.0)\n",
        "    except ValueError as e:\n",
        "        print(f\"Found a ValueError: {e}\")\n",
        "\n",
        "# 9(4). Using an undeclared variable, such as print(x) when x has not been defined\n",
        "def name_error():\n",
        "    try:\n",
        "        print(x)\n",
        "    except NameError as e:\n",
        "        print(f\"Found a NameError: {e}\")\n",
        "\n",
        "# 9(5). Trying to open a file that does not exist, such as mistyping the file name or looking in the wrong directory\n",
        "def file_not_found_error():\n",
        "    try:\n",
        "        with open('random.txt', 'r') as file:\n",
        "            content = file.read()\n",
        "    except FileNotFoundError as e:\n",
        "        print(f\"Found a FileNotFoundError: {e}\")\n",
        "\n",
        "\n",
        "type_error()\n",
        "index_error()\n",
        "value_error()\n",
        "name_error()\n",
        "file_not_found_error()\n"
      ],
      "metadata": {
        "colab": {
          "base_uri": "https://localhost:8080/"
        },
        "id": "23yI3G2cndhc",
        "outputId": "c9254856-828d-4f54-e643-a24eb022b045"
      },
      "execution_count": 9,
      "outputs": [
        {
          "output_type": "stream",
          "name": "stdout",
          "text": [
            "Found a TypeError: unsupported operand type(s) for +: 'int' and 'str'\n",
            "Found an IndexError: list index out of range\n",
            "Found a ValueError: math domain error\n",
            "Found a NameError: name 'x' is not defined\n",
            "Found a FileNotFoundError: [Errno 2] No such file or directory: 'random.txt'\n"
          ]
        }
      ]
    },
    {
      "cell_type": "markdown",
      "source": [
        "# Question 10\n",
        "Encryption is the process of hiding the meaning of a text by substituting letters in the message with other letters, according to some system. If the process is successful, no one but the intended recipient can understand the encrypted message. Cryptanalysis refers to attempts to undo the encryption, even if some details of the encryption are unknown (for example, if an encrypted message has been intercepted). The first step of cryptanalysis is often to build up a table of letter frequencies in the encrypted text. Assume that the string letters is already defined as 'abcdefghijklmnopqrstuvwxyz'. Write a function called frequencies() that takes a string as its only parameter, and returns a list of integers, showing the number of times each character appears in the text. Your function may ignore any characters that are not in letters.\n",
        "- frequencies('The quick red fox got bored and went home.') [1, 1, 1, 3, 5, 1, 1, 2, 1, 0, 1, 0, 1, 2, 4, 0, 1, 2, 0, 2, 1, 0, 1, 1, 0, 0]\n",
        "- frequencies('apple')"
      ],
      "metadata": {
        "id": "nlAdLORypluP"
      }
    },
    {
      "cell_type": "code",
      "source": [
        "def frequencies(text):\n",
        "    letters_given = 'abcdefghijklmnopqrstuvwxyz'\n",
        "    letter_frequencies = [0] * 26\n",
        "    text = text.lower()\n",
        "    for char in text:\n",
        "        if char in letters_given:\n",
        "            letter_frequencies[letters_given.index(char)] += 1\n",
        "    return letter_frequencies\n",
        "\n",
        "print(frequencies('The quick red fox got bored and went home.'))\n",
        "print(frequencies('apple'))"
      ],
      "metadata": {
        "colab": {
          "base_uri": "https://localhost:8080/"
        },
        "id": "8KTamNwxpD3k",
        "outputId": "5a08d26e-f9af-4b48-ffcd-91c2ad5e5b08"
      },
      "execution_count": 10,
      "outputs": [
        {
          "output_type": "stream",
          "name": "stdout",
          "text": [
            "[1, 1, 1, 3, 5, 1, 1, 2, 1, 0, 1, 0, 1, 2, 4, 0, 1, 2, 0, 3, 1, 0, 1, 1, 0, 0]\n",
            "[1, 0, 0, 0, 1, 0, 0, 0, 0, 0, 0, 1, 0, 0, 0, 2, 0, 0, 0, 0, 0, 0, 0, 0, 0, 0]\n"
          ]
        }
      ]
    },
    {
      "cell_type": "code",
      "source": [],
      "metadata": {
        "id": "-Wn2zMIn0voj"
      },
      "execution_count": 10,
      "outputs": []
    }
  ]
}